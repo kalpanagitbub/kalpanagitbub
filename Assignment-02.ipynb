{
 "cells": [
  {
   "cell_type": "code",
   "execution_count": 4,
   "id": "90207c4d",
   "metadata": {},
   "outputs": [],
   "source": [
    "import pandas as pd\n",
    "import requests\n",
    "from bs4 import BeautifulSoup\n",
    "import csv"
   ]
  },
  {
   "cell_type": "code",
   "execution_count": 5,
   "id": "f3088a5a",
   "metadata": {},
   "outputs": [],
   "source": [
    "url='https://www.flipkart.com/search?q=iphone+&otracker=search&otracker1=search&marketplace=FLIPKART&as-show=on&as=off&as-pos=1&as-type=HISTORY'"
   ]
  },
  {
   "cell_type": "code",
   "execution_count": 6,
   "id": "9cb7ce53",
   "metadata": {},
   "outputs": [],
   "source": [
    "response=requests.get(url)"
   ]
  },
  {
   "cell_type": "code",
   "execution_count": 7,
   "id": "bb55faa1",
   "metadata": {},
   "outputs": [
    {
     "data": {
      "text/plain": [
       "<Response [200]>"
      ]
     },
     "execution_count": 7,
     "metadata": {},
     "output_type": "execute_result"
    }
   ],
   "source": [
    "response"
   ]
  },
  {
   "cell_type": "code",
   "execution_count": 8,
   "id": "50e5170a",
   "metadata": {},
   "outputs": [],
   "source": [
    "soup=BeautifulSoup(response.content,\"html.parser\")"
   ]
  },
  {
   "cell_type": "code",
   "execution_count": 9,
   "id": "c8bb4c95",
   "metadata": {},
   "outputs": [],
   "source": [
    "product_names=[]\n",
    "descriptions=[]\n",
    "prices=[]\n",
    "ratings=[]"
   ]
  },
  {
   "cell_type": "code",
   "execution_count": 10,
   "id": "2f1d9aaf",
   "metadata": {},
   "outputs": [],
   "source": [
    "for a in soup.findAll('a',href=True,attrs={'class':'_1fQZEK'}):\n",
    "    name=a.find('div',attrs={'class':'_4rR01T'})\n",
    "    price=a.find('div',attrs={'class':'_30jeq3 _1_WHN1'})\n",
    "    rating=a.find('div',attrs={'class':'_3LWZlK'})\n",
    "    description=a.find('div',attrs={'class':'fMghEO'})\n",
    "    product_names.append(name.text)\n",
    "    prices.append(price.text)\n",
    "    ratings.append(rating.text)\n",
    "    descriptions.append(description.text)"
   ]
  },
  {
   "cell_type": "code",
   "execution_count": 11,
   "id": "2c64dd59",
   "metadata": {},
   "outputs": [
    {
     "data": {
      "text/html": [
       "<div>\n",
       "<style scoped>\n",
       "    .dataframe tbody tr th:only-of-type {\n",
       "        vertical-align: middle;\n",
       "    }\n",
       "\n",
       "    .dataframe tbody tr th {\n",
       "        vertical-align: top;\n",
       "    }\n",
       "\n",
       "    .dataframe thead th {\n",
       "        text-align: right;\n",
       "    }\n",
       "</style>\n",
       "<table border=\"1\" class=\"dataframe\">\n",
       "  <thead>\n",
       "    <tr style=\"text-align: right;\">\n",
       "      <th></th>\n",
       "      <th>Product_Name</th>\n",
       "      <th>Description</th>\n",
       "      <th>Prices</th>\n",
       "      <th>ratings</th>\n",
       "    </tr>\n",
       "  </thead>\n",
       "  <tbody>\n",
       "    <tr>\n",
       "      <th>0</th>\n",
       "      <td>APPLE iPhone 12 (Black, 128 GB)</td>\n",
       "      <td>128 GB ROM15.49 cm (6.1 inch) Super Retina XDR...</td>\n",
       "      <td>₹60,990</td>\n",
       "      <td>4.6</td>\n",
       "    </tr>\n",
       "    <tr>\n",
       "      <th>1</th>\n",
       "      <td>APPLE iPhone 12 (Blue, 64 GB)</td>\n",
       "      <td>64 GB ROM15.49 cm (6.1 inch) Super Retina XDR ...</td>\n",
       "      <td>₹54,990</td>\n",
       "      <td>4.6</td>\n",
       "    </tr>\n",
       "    <tr>\n",
       "      <th>2</th>\n",
       "      <td>APPLE iPhone 11 (Black, 128 GB)</td>\n",
       "      <td>128 GB ROM15.49 cm (6.1 inch) Liquid Retina HD...</td>\n",
       "      <td>₹44,999</td>\n",
       "      <td>4.6</td>\n",
       "    </tr>\n",
       "    <tr>\n",
       "      <th>3</th>\n",
       "      <td>APPLE iPhone 11 (Purple, 128 GB)</td>\n",
       "      <td>128 GB ROM15.49 cm (6.1 inch) Liquid Retina HD...</td>\n",
       "      <td>₹44,999</td>\n",
       "      <td>4.6</td>\n",
       "    </tr>\n",
       "    <tr>\n",
       "      <th>4</th>\n",
       "      <td>APPLE iPhone 12 (White, 64 GB)</td>\n",
       "      <td>64 GB ROM15.49 cm (6.1 inch) Super Retina XDR ...</td>\n",
       "      <td>₹54,990</td>\n",
       "      <td>4.6</td>\n",
       "    </tr>\n",
       "  </tbody>\n",
       "</table>\n",
       "</div>"
      ],
      "text/plain": [
       "                       Product_Name  \\\n",
       "0   APPLE iPhone 12 (Black, 128 GB)   \n",
       "1     APPLE iPhone 12 (Blue, 64 GB)   \n",
       "2   APPLE iPhone 11 (Black, 128 GB)   \n",
       "3  APPLE iPhone 11 (Purple, 128 GB)   \n",
       "4    APPLE iPhone 12 (White, 64 GB)   \n",
       "\n",
       "                                         Description   Prices ratings  \n",
       "0  128 GB ROM15.49 cm (6.1 inch) Super Retina XDR...  ₹60,990     4.6  \n",
       "1  64 GB ROM15.49 cm (6.1 inch) Super Retina XDR ...  ₹54,990     4.6  \n",
       "2  128 GB ROM15.49 cm (6.1 inch) Liquid Retina HD...  ₹44,999     4.6  \n",
       "3  128 GB ROM15.49 cm (6.1 inch) Liquid Retina HD...  ₹44,999     4.6  \n",
       "4  64 GB ROM15.49 cm (6.1 inch) Super Retina XDR ...  ₹54,990     4.6  "
      ]
     },
     "execution_count": 11,
     "metadata": {},
     "output_type": "execute_result"
    }
   ],
   "source": [
    "df=pd.DataFrame({\n",
    "    \"Product_Name\":product_names,\"Description\":descriptions,\"Prices\":prices,\"ratings\":ratings\n",
    "    \n",
    "})\n",
    "df.head()"
   ]
  },
  {
   "cell_type": "code",
   "execution_count": 13,
   "id": "534b35af",
   "metadata": {},
   "outputs": [],
   "source": [
    "df.to_csv(\"product_names.csv\")\n",
    "df.to_csv('c:/Users/Public/Downloads/file2.csv')"
   ]
  },
  {
   "cell_type": "code",
   "execution_count": null,
   "id": "d98ab265",
   "metadata": {},
   "outputs": [],
   "source": []
  }
 ],
 "metadata": {
  "kernelspec": {
   "display_name": "Python 3 (ipykernel)",
   "language": "python",
   "name": "python3"
  },
  "language_info": {
   "codemirror_mode": {
    "name": "ipython",
    "version": 3
   },
   "file_extension": ".py",
   "mimetype": "text/x-python",
   "name": "python",
   "nbconvert_exporter": "python",
   "pygments_lexer": "ipython3",
   "version": "3.9.7"
  }
 },
 "nbformat": 4,
 "nbformat_minor": 5
}
